{
 "cells": [
  {
   "cell_type": "code",
   "execution_count": 14,
   "id": "b771489c",
   "metadata": {},
   "outputs": [],
   "source": [
    "reprt=(\"0\",)\n",
    "report=int(reprt[0])\n",
    "if report==None:\n",
    "    report_num =report+ 1\n",
    "else:\n",
    "    \"error\""
   ]
  },
  {
   "cell_type": "code",
   "execution_count": 15,
   "id": "0c8c31fb",
   "metadata": {},
   "outputs": [
    {
     "data": {
      "text/plain": [
       "1"
      ]
     },
     "execution_count": 15,
     "metadata": {},
     "output_type": "execute_result"
    }
   ],
   "source": [
    "report_num"
   ]
  },
  {
   "cell_type": "code",
   "execution_count": 16,
   "id": "8ad23bb3",
   "metadata": {},
   "outputs": [
    {
     "data": {
      "text/plain": [
       "int"
      ]
     },
     "execution_count": 16,
     "metadata": {},
     "output_type": "execute_result"
    }
   ],
   "source": [
    "type(report_num)"
   ]
  },
  {
   "cell_type": "code",
   "execution_count": 17,
   "id": "078ab5a0",
   "metadata": {},
   "outputs": [
    {
     "data": {
      "text/plain": [
       "1"
      ]
     },
     "execution_count": 17,
     "metadata": {},
     "output_type": "execute_result"
    }
   ],
   "source": [
    "report_num"
   ]
  },
  {
   "cell_type": "code",
   "execution_count": null,
   "id": "115a98eb",
   "metadata": {},
   "outputs": [],
   "source": []
  }
 ],
 "metadata": {
  "kernelspec": {
   "display_name": "Python 3 (ipykernel)",
   "language": "python",
   "name": "python3"
  },
  "language_info": {
   "codemirror_mode": {
    "name": "ipython",
    "version": 3
   },
   "file_extension": ".py",
   "mimetype": "text/x-python",
   "name": "python",
   "nbconvert_exporter": "python",
   "pygments_lexer": "ipython3",
   "version": "3.8.13"
  }
 },
 "nbformat": 4,
 "nbformat_minor": 5
}
